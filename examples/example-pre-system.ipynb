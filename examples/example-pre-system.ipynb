{
 "cells": [
  {
   "cell_type": "markdown",
   "id": "0",
   "metadata": {},
   "source": [
    "# Demo of pre-system Formula and PreSystem classes\n",
    "By: Magnus Kvåle Helliesen\n",
    "\n",
    "This notebook is entirely selfcontained, in the sense that it doesn not use any existing data, but creates random data for illustrational purposes.\n",
    "\n",
    "We import `pandas`, `numpy`, `matplotlib` and the `Formula` class and sub-classes, and `PreSystem`."
   ]
  },
  {
   "cell_type": "code",
   "execution_count": null,
   "id": "1",
   "metadata": {
    "tags": []
   },
   "outputs": [],
   "source": [
    "import os\n",
    "\n",
    "# Change directory until find project root\n",
    "notebook_path = os.getcwd()\n",
    "for _ in range(50):\n",
    "    if \"pyproject.toml\" in os.listdir():\n",
    "        break\n",
    "    os.chdir(\"../\")"
   ]
  },
  {
   "cell_type": "code",
   "execution_count": null,
   "id": "2",
   "metadata": {
    "tags": []
   },
   "outputs": [],
   "source": [
    "import matplotlib.pyplot as plt\n",
    "import numpy as np\n",
    "import pandas as pd\n",
    "from src.pre_system.formula import FDeflate\n",
    "from src.pre_system.formula import FInflate\n",
    "from src.pre_system.formula import FJoin\n",
    "from src.pre_system.formula import Formula\n",
    "from src.pre_system.formula import FSum\n",
    "from src.pre_system.formula import Indicator\n",
    "from src.pre_system.pre_system import PreSystem"
   ]
  },
  {
   "cell_type": "markdown",
   "id": "3",
   "metadata": {},
   "source": [
    "## Defining formulae\n",
    "There are a bunch of different Formula *child*-classes, some of which are put to use below."
   ]
  },
  {
   "cell_type": "code",
   "execution_count": null,
   "id": "4",
   "metadata": {
    "tags": []
   },
   "outputs": [],
   "source": [
    "# Let's make a formula that extrapolates x using x1, x2 and x3\n",
    "xa1 = Indicator(\"xa1\", \"xa\", [\"x0\", \"x1\", \"x2\"])\n",
    "xa2 = Indicator(\"xa2\", \"xa\", [\"x0\", \"x1\"])\n",
    "xa = FJoin(\"xa\", xa1, xa2, 2017)\n",
    "xb = Indicator(\"xb\", \"xb\", [\"x3\", \"x4\"])\n",
    "\n",
    "# Let's deflate them with a bunch of weighted price indices\n",
    "vxa = FDeflate(\"vxa\", xa, [\"p0\", \"p1\", \"p2\"], [\"w0\", \"w1\", \"w2\"])\n",
    "vxb = FInflate(\"vxb\", xb, [\"p3\", \"p4\"], [\"w3\", \"w4\"])\n",
    "\n",
    "# Finally, let's sum them up\n",
    "x = FSum(\"xy\", xa, xb)\n",
    "vx = FSum(\"vxy\", vxa, vxb)"
   ]
  },
  {
   "cell_type": "markdown",
   "id": "5",
   "metadata": {},
   "source": [
    "## Looking at the textual representation of the formulae\n",
    "We haven't any data yet, but we can look at the textual representation of the formulae."
   ]
  },
  {
   "cell_type": "code",
   "execution_count": null,
   "id": "6",
   "metadata": {},
   "outputs": [],
   "source": [
    "xa.info()"
   ]
  },
  {
   "cell_type": "code",
   "execution_count": null,
   "id": "7",
   "metadata": {
    "tags": []
   },
   "outputs": [],
   "source": [
    "xb"
   ]
  },
  {
   "cell_type": "code",
   "execution_count": null,
   "id": "8",
   "metadata": {},
   "outputs": [],
   "source": [
    "vxa"
   ]
  },
  {
   "cell_type": "code",
   "execution_count": null,
   "id": "9",
   "metadata": {},
   "outputs": [],
   "source": [
    "vxb"
   ]
  },
  {
   "cell_type": "code",
   "execution_count": null,
   "id": "10",
   "metadata": {},
   "outputs": [],
   "source": [
    "x"
   ]
  },
  {
   "cell_type": "code",
   "execution_count": null,
   "id": "11",
   "metadata": {
    "tags": []
   },
   "outputs": [],
   "source": [
    "vx"
   ]
  },
  {
   "cell_type": "markdown",
   "id": "12",
   "metadata": {},
   "source": [
    "We can also trace back to any formulae that go into some formula."
   ]
  },
  {
   "cell_type": "code",
   "execution_count": null,
   "id": "13",
   "metadata": {
    "tags": []
   },
   "outputs": [],
   "source": [
    "vxa.info()"
   ]
  },
  {
   "cell_type": "markdown",
   "id": "14",
   "metadata": {},
   "source": [
    "We can also look at pairwise indicators and weights"
   ]
  },
  {
   "cell_type": "code",
   "execution_count": null,
   "id": "15",
   "metadata": {
    "tags": []
   },
   "outputs": [],
   "source": [
    "# With trace\n",
    "vxa.indicators_weights()"
   ]
  },
  {
   "cell_type": "code",
   "execution_count": null,
   "id": "16",
   "metadata": {
    "tags": []
   },
   "outputs": [],
   "source": [
    "# Without trace\n",
    "vxa.indicators_weights(trace=False)"
   ]
  },
  {
   "cell_type": "markdown",
   "id": "17",
   "metadata": {},
   "source": [
    "## Subjecting formulae to data (evaluating formulae with respect to data)\n",
    "Let's make some random data and store them in Pandas DataFrames. Importantly, the data *must* be indexed by Pandas PeriodIndices."
   ]
  },
  {
   "cell_type": "code",
   "execution_count": null,
   "id": "18",
   "metadata": {
    "tags": []
   },
   "outputs": [],
   "source": [
    "years = 13"
   ]
  },
  {
   "cell_type": "code",
   "execution_count": null,
   "id": "19",
   "metadata": {
    "tags": []
   },
   "outputs": [],
   "source": [
    "annual_df = pd.DataFrame(\n",
    "    np.exp(0.02 + np.random.normal(0, 0.01, (years, 10)).cumsum(axis=0)),\n",
    "    columns=[f\"x{i}\" for i in \"abcdefghij\"],\n",
    "    index=pd.period_range(start=\"2010\", periods=years, freq=\"Y\"),\n",
    ")\n",
    "\n",
    "annual_df.plot(figsize=(15, 2.5))\n",
    "plt.title(\"Annual values\")\n",
    "plt.show()"
   ]
  },
  {
   "cell_type": "code",
   "execution_count": null,
   "id": "20",
   "metadata": {
    "tags": []
   },
   "outputs": [],
   "source": [
    "indicator_df = pd.DataFrame(\n",
    "    np.exp(0.02 + np.random.normal(0, 0.01, (years * 12, 10)).cumsum(axis=0)),\n",
    "    columns=[f\"x{i}\" for i in range(5)] + [f\"p{i}\" for i in range(5)],\n",
    "    index=pd.period_range(start=\"2010-01\", periods=years * 12, freq=\"M\"),\n",
    ")\n",
    "\n",
    "indicator_df.plot(figsize=(15, 2.5))\n",
    "plt.title(\"Indicators\")\n",
    "plt.show()"
   ]
  },
  {
   "cell_type": "code",
   "execution_count": null,
   "id": "21",
   "metadata": {
    "tags": []
   },
   "outputs": [],
   "source": [
    "weight_df = pd.DataFrame(\n",
    "    10 + np.random.normal(0, 1, (years, 5)).cumsum(axis=0),\n",
    "    columns=[f\"w{i}\" for i in range(5)],\n",
    "    index=pd.period_range(start=\"2010\", periods=years, freq=\"Y\"),\n",
    ")\n",
    "\n",
    "weight_df[[\"w0\", \"w1\", \"w2\"]] = weight_df[[\"w0\", \"w1\", \"w2\"]].divide(\n",
    "    weight_df[[\"w0\", \"w1\", \"w2\"]].sum(axis=1), axis=0\n",
    ")\n",
    "weight_df[[\"w3\", \"w4\"]] = weight_df[[\"w3\", \"w4\"]].divide(\n",
    "    weight_df[[\"w3\", \"w4\"]].sum(axis=1), axis=0\n",
    ")\n",
    "\n",
    "weight_df.plot(figsize=(15, 2.5))\n",
    "plt.title(\"Weights\")\n",
    "plt.show()"
   ]
  },
  {
   "cell_type": "markdown",
   "id": "22",
   "metadata": {},
   "source": [
    "Before we can evaluate the formulae, we need to set a baseyear."
   ]
  },
  {
   "cell_type": "code",
   "execution_count": null,
   "id": "23",
   "metadata": {
    "tags": []
   },
   "outputs": [],
   "source": [
    "Formula.baseyear = 2020"
   ]
  },
  {
   "cell_type": "code",
   "execution_count": null,
   "id": "24",
   "metadata": {
    "tags": []
   },
   "outputs": [],
   "source": [
    "fig = x.evaluate(annual_df, indicator_df, weight_df).plot(figsize=(15, 2.5))\n",
    "plt.title(\"x\")\n",
    "plt.show()"
   ]
  },
  {
   "cell_type": "code",
   "execution_count": null,
   "id": "25",
   "metadata": {
    "tags": []
   },
   "outputs": [],
   "source": [
    "fig = vx.evaluate(annual_df, indicator_df, weight_df).plot(figsize=(15, 2.5))\n",
    "plt.title(\"vx\")\n",
    "plt.show()"
   ]
  },
  {
   "cell_type": "markdown",
   "id": "26",
   "metadata": {},
   "source": [
    "## Organizing the formulae in the PreSystem class\n",
    "The PreSystem class is written to contain formulae, and allow the user to easily evaluate them, subject to data (contained by PreSystem)."
   ]
  },
  {
   "cell_type": "code",
   "execution_count": null,
   "id": "27",
   "metadata": {
    "tags": []
   },
   "outputs": [],
   "source": [
    "# Let's create a PreSystem instance\n",
    "pre_system = PreSystem(\"Test PreSystem\")\n",
    "pre_system"
   ]
  },
  {
   "cell_type": "markdown",
   "id": "28",
   "metadata": {},
   "source": [
    "The PreSystem is now ready to accept formulae and data."
   ]
  },
  {
   "cell_type": "code",
   "execution_count": null,
   "id": "29",
   "metadata": {
    "tags": []
   },
   "outputs": [],
   "source": [
    "pre_system.add_formula(xa1)\n",
    "pre_system.add_formula(xa2)\n",
    "pre_system.add_formula(xa)\n",
    "pre_system.add_formula(xb)\n",
    "pre_system.add_formula(vxa)\n",
    "pre_system.add_formula(vxb)\n",
    "pre_system.add_formula(x)\n",
    "pre_system.add_formula(vx)\n",
    "pre_system.info()"
   ]
  },
  {
   "cell_type": "markdown",
   "id": "30",
   "metadata": {},
   "source": [
    "In order to evaluate the PreSystem, we need to put data in it, and set the baseyear."
   ]
  },
  {
   "cell_type": "code",
   "execution_count": null,
   "id": "31",
   "metadata": {
    "tags": []
   },
   "outputs": [],
   "source": [
    "pre_system.baseyear = 2020\n",
    "pre_system.annuals_df = annual_df\n",
    "pre_system.indicators_df = indicator_df\n",
    "pre_system.weights_df = weight_df\n",
    "pre_system.info()"
   ]
  },
  {
   "cell_type": "markdown",
   "id": "32",
   "metadata": {},
   "source": [
    "Now we can evaluate the PreSystem (horay!)."
   ]
  },
  {
   "cell_type": "code",
   "execution_count": null,
   "id": "33",
   "metadata": {
    "tags": []
   },
   "outputs": [],
   "source": [
    "pre_system.evaluate"
   ]
  },
  {
   "cell_type": "markdown",
   "id": "34",
   "metadata": {},
   "source": [
    "## Convert and overlay functions\n",
    "`pre_system` also contain three functions, `convert`, `convert_step` and `overlay`. Let's import these.\n",
    "\n",
    "### Convert"
   ]
  },
  {
   "cell_type": "code",
   "execution_count": null,
   "id": "35",
   "metadata": {
    "tags": []
   },
   "outputs": [],
   "source": [
    "from src.pre_system.convert import convert\n",
    "from src.pre_system.convert import convert_step\n",
    "from src.pre_system.overlay import overlay"
   ]
  },
  {
   "cell_type": "markdown",
   "id": "36",
   "metadata": {},
   "source": [
    "We can now \"upsample\" time series from, say, quarterly to monthly frequency."
   ]
  },
  {
   "cell_type": "code",
   "execution_count": null,
   "id": "37",
   "metadata": {
    "tags": []
   },
   "outputs": [],
   "source": [
    "quarterly_df = pd.DataFrame(\n",
    "    np.exp(0.02 + np.random.normal(0, 0.01, (16, 3)).cumsum(axis=0)),\n",
    "    columns=[f\"x{i}\" for i in range(3)],\n",
    "    index=pd.period_range(start=\"2019q1\", periods=16, freq=\"q\"),\n",
    ")\n",
    "\n",
    "quarterly_df.plot(figsize=(15, 2.5))\n",
    "plt.title(\"Quarterly data\")\n",
    "plt.show()"
   ]
  },
  {
   "cell_type": "code",
   "execution_count": null,
   "id": "38",
   "metadata": {
    "tags": []
   },
   "outputs": [],
   "source": [
    "convert(quarterly_df, \"m\").plot(figsize=(15, 2.5))\n",
    "plt.title(\"Quarterly data to montlhy using smooth method\")\n",
    "plt.show()"
   ]
  },
  {
   "cell_type": "code",
   "execution_count": null,
   "id": "39",
   "metadata": {
    "tags": []
   },
   "outputs": [],
   "source": [
    "convert_step(quarterly_df, \"m\").plot(figsize=(15, 2.5))\n",
    "plt.title(\"Quarterly data to montlhy using step method\")\n",
    "plt.show()"
   ]
  },
  {
   "cell_type": "markdown",
   "id": "40",
   "metadata": {},
   "source": [
    "### Overlay\n",
    "Sometimes we have missing data, and we want to use and \"overlay\" function that takes any number of DataFrames or Series as input, and outputs the data from the first wherever they are present, the second if any from the first is missing, the third if any from the first and second are missing, and so on (you get the point). The function `overlay` does exactly this."
   ]
  },
  {
   "cell_type": "code",
   "execution_count": null,
   "id": "41",
   "metadata": {
    "tags": []
   },
   "outputs": [],
   "source": [
    "# Lets make some DataFrames and remove some values\n",
    "df0 = quarterly_df.copy()\n",
    "df1 = quarterly_df.copy()\n",
    "df2 = quarterly_df.copy()\n",
    "\n",
    "df0.iloc[0:5, :] = np.nan\n",
    "df1.iloc[3:9, :] = np.nan\n",
    "df2.iloc[10:12, :] = np.nan"
   ]
  },
  {
   "cell_type": "code",
   "execution_count": null,
   "id": "42",
   "metadata": {
    "tags": []
   },
   "outputs": [],
   "source": [
    "df0"
   ]
  },
  {
   "cell_type": "code",
   "execution_count": null,
   "id": "43",
   "metadata": {
    "tags": []
   },
   "outputs": [],
   "source": [
    "df1"
   ]
  },
  {
   "cell_type": "code",
   "execution_count": null,
   "id": "44",
   "metadata": {
    "tags": []
   },
   "outputs": [],
   "source": [
    "df2"
   ]
  },
  {
   "cell_type": "code",
   "execution_count": null,
   "id": "45",
   "metadata": {
    "tags": []
   },
   "outputs": [],
   "source": [
    "# If we overlay the three DataFrames, the result contains no NaN's\n",
    "overlay(df0, df1, df2)"
   ]
  },
  {
   "cell_type": "code",
   "execution_count": null,
   "id": "46",
   "metadata": {
    "tags": []
   },
   "outputs": [],
   "source": [
    "# If we leave out df2 there are still some, since the NaN's in df0 and df1 overlap\n",
    "overlay(df0, df1)"
   ]
  },
  {
   "cell_type": "code",
   "execution_count": null,
   "id": "47",
   "metadata": {
    "tags": []
   },
   "outputs": [],
   "source": [
    "pre_system.baseyear = 2012\n",
    "pre_system.evaluate_formulae(\"xa\", \"xb\").plot()"
   ]
  },
  {
   "cell_type": "code",
   "execution_count": null,
   "id": "48",
   "metadata": {},
   "outputs": [],
   "source": []
  }
 ],
 "metadata": {
  "language_info": {
   "codemirror_mode": {
    "name": "ipython"
   },
   "file_extension": ".py",
   "mimetype": "text/x-python",
   "name": "python",
   "nbconvert_exporter": "python"
  }
 },
 "nbformat": 4,
 "nbformat_minor": 5
}
