{
 "cells": [
  {
   "cell_type": "markdown",
   "id": "0f318a10-2458-4a1a-afe0-676e2842c690",
   "metadata": {},
   "source": [
    "# Demo of pre-system Formula and PreSystem classes\n",
    "By: Magnus Kvåle Helliesen\n",
    "\n",
    "This notebook is entirely selfcontained, in the sense that it doesn not use any existing data, but creates random data for illustrational purposes.\n",
    "\n",
    "We import `pandas`, `numpy`, `matplotlib` and the `Formula` class and sub-classes, and `PreSystem`."
   ]
  },
  {
   "cell_type": "code",
   "execution_count": null,
   "id": "bededf9c-3804-4fc5-9b58-20ff509d0ad2",
   "metadata": {
    "tags": []
   },
   "outputs": [],
   "source": [
    "import os\n",
    "\n",
    "# Change directory until find project root\n",
    "notebook_path = os.getcwd()\n",
    "for _ in range(50):\n",
    "    if \"pyproject.toml\" in os.listdir():\n",
    "        break\n",
    "    os.chdir(\"../\")"
   ]
  },
  {
   "cell_type": "code",
   "execution_count": null,
   "id": "6f5e6247-8fb9-47a7-a21a-4ec6d1c9cae1",
   "metadata": {
    "tags": []
   },
   "outputs": [],
   "source": [
    "import matplotlib.pyplot as plt\n",
    "import numpy as np\n",
    "import pandas as pd\n",
    "from src.pre_system.formula import FDeflate\n",
    "from src.pre_system.formula import FInflate\n",
    "from src.pre_system.formula import FJoin\n",
    "from src.pre_system.formula import Formula\n",
    "from src.pre_system.formula import FSum\n",
    "from src.pre_system.formula import Indicator\n",
    "from src.pre_system.pre_system import PreSystem"
   ]
  },
  {
   "cell_type": "markdown",
   "id": "1d3511a7-85d6-4875-ab62-b12632ee6b1e",
   "metadata": {},
   "source": [
    "## Defining formulae\n",
    "There are a bunch of different Formula *child*-classes, some of which are put to use below."
   ]
  },
  {
   "cell_type": "code",
   "execution_count": null,
   "id": "3dcc8a19-b840-4450-9da1-36ed8e95898e",
   "metadata": {
    "tags": []
   },
   "outputs": [],
   "source": [
    "# Let's make a formula that extrapolates x using x1, x2 and x3\n",
    "xa1 = Indicator(\"xa1\", \"xa\", [\"x0\", \"x1\", \"x2\"])\n",
    "xa2 = Indicator(\"xa2\", \"xa\", [\"x0\", \"x1\"])\n",
    "xa = FJoin(\"xa\", xa1, xa2, 2017)\n",
    "xb = Indicator(\"xb\", \"xb\", [\"x3\", \"x4\"])\n",
    "\n",
    "# Let's deflate them with a bunch of weighted price indices\n",
    "vxa = FDeflate(\"vxa\", xa, [\"p0\", \"p1\", \"p2\"], [\"w0\", \"w1\", \"w2\"])\n",
    "vxb = FInflate(\"vxb\", xb, [\"p3\", \"p4\"], [\"w3\", \"w4\"])\n",
    "\n",
    "# Finally, let's sum them up\n",
    "x = FSum(\"xy\", xa, xb)\n",
    "vx = FSum(\"vxy\", vxa, vxb)"
   ]
  },
  {
   "cell_type": "markdown",
   "id": "61488aa9-5728-4d39-8467-f0dd8c60c467",
   "metadata": {},
   "source": [
    "## Looking at the textual representation of the formulae\n",
    "We haven't any data yet, but we can look at the textual representation of the formulae."
   ]
  },
  {
   "cell_type": "code",
   "execution_count": null,
   "id": "9c069903-e962-44b0-be1a-b88251a18713",
   "metadata": {},
   "outputs": [],
   "source": [
    "xa.info()"
   ]
  },
  {
   "cell_type": "code",
   "execution_count": null,
   "id": "b239a66d-bcbb-4c7f-bebd-d48bece39293",
   "metadata": {
    "tags": []
   },
   "outputs": [],
   "source": [
    "xb"
   ]
  },
  {
   "cell_type": "code",
   "execution_count": null,
   "id": "8c546fbb-7d7f-437c-9852-87da5f0211a5",
   "metadata": {},
   "outputs": [],
   "source": [
    "vxa"
   ]
  },
  {
   "cell_type": "code",
   "execution_count": null,
   "id": "981aab97-399c-4cc6-9350-852a518fad68",
   "metadata": {},
   "outputs": [],
   "source": [
    "vxb"
   ]
  },
  {
   "cell_type": "code",
   "execution_count": null,
   "id": "ac8d5ce9-d358-4bf7-8772-29725c378cdc",
   "metadata": {},
   "outputs": [],
   "source": [
    "x"
   ]
  },
  {
   "cell_type": "code",
   "execution_count": null,
   "id": "29d26486-3b6c-459b-baa8-a8d4214452d8",
   "metadata": {
    "tags": []
   },
   "outputs": [],
   "source": [
    "vx"
   ]
  },
  {
   "cell_type": "markdown",
   "id": "65c4cbc5-814f-44ce-a8c6-7df41bd8b1b8",
   "metadata": {},
   "source": [
    "We can also trace back to any formulae that go into some formula."
   ]
  },
  {
   "cell_type": "code",
   "execution_count": null,
   "id": "24038530-b79f-4622-a870-e7f90b5af4b7",
   "metadata": {
    "tags": []
   },
   "outputs": [],
   "source": [
    "vxa.info()"
   ]
  },
  {
   "cell_type": "markdown",
   "id": "17d4d17c-5e3c-4b75-ad43-92abdabd66d7",
   "metadata": {},
   "source": [
    "We can also look at pairwise indicators and weights"
   ]
  },
  {
   "cell_type": "code",
   "execution_count": null,
   "id": "5a5a0938-deb3-4c88-80a2-7f7212920a87",
   "metadata": {
    "tags": []
   },
   "outputs": [],
   "source": [
    "# With trace\n",
    "vxa.indicators_weights()"
   ]
  },
  {
   "cell_type": "code",
   "execution_count": null,
   "id": "a1a03004-262b-4d6b-a3bc-58c1a97e178a",
   "metadata": {
    "tags": []
   },
   "outputs": [],
   "source": [
    "# Without trace\n",
    "vxa.indicators_weights(trace=False)"
   ]
  },
  {
   "cell_type": "markdown",
   "id": "256c6410-5da4-47fd-9340-67149c29cc32",
   "metadata": {},
   "source": [
    "## Subjecting formulae to data (evaluating formulae with respect to data)\n",
    "Let's make some random data and store them in Pandas DataFrames. Importantly, the data *must* be indexed by Pandas PeriodIndices."
   ]
  },
  {
   "cell_type": "code",
   "execution_count": null,
   "id": "e4206ff4-abe1-4da2-9b45-526fdf57fa61",
   "metadata": {
    "tags": []
   },
   "outputs": [],
   "source": [
    "years = 13"
   ]
  },
  {
   "cell_type": "code",
   "execution_count": null,
   "id": "fb53cfd9-cb3d-48b1-8deb-37dbfd1f6c4e",
   "metadata": {
    "tags": []
   },
   "outputs": [],
   "source": [
    "annual_df = pd.DataFrame(\n",
    "    np.exp(0.02 + np.random.normal(0, 0.01, (years, 10)).cumsum(axis=0)),\n",
    "    columns=[f\"x{i}\" for i in \"abcdefghij\"],\n",
    "    index=pd.period_range(start=\"2010\", periods=years, freq=\"a\"),\n",
    ")\n",
    "\n",
    "annual_df.plot(figsize=(15, 2.5))\n",
    "plt.title(\"Annual values\")\n",
    "plt.show()"
   ]
  },
  {
   "cell_type": "code",
   "execution_count": null,
   "id": "8f5a99a1-dc14-47e2-a0df-cd4dcbd6105d",
   "metadata": {
    "tags": []
   },
   "outputs": [],
   "source": [
    "indicator_df = pd.DataFrame(\n",
    "    np.exp(0.02 + np.random.normal(0, 0.01, (years * 12, 10)).cumsum(axis=0)),\n",
    "    columns=[f\"x{i}\" for i in range(5)] + [f\"p{i}\" for i in range(5)],\n",
    "    index=pd.period_range(start=\"2010-01\", periods=years * 12, freq=\"m\"),\n",
    ")\n",
    "\n",
    "indicator_df.plot(figsize=(15, 2.5))\n",
    "plt.title(\"Indicators\")\n",
    "plt.show()"
   ]
  },
  {
   "cell_type": "code",
   "execution_count": null,
   "id": "af20f3e8-6ce5-41f8-91f5-ceca196efa83",
   "metadata": {
    "tags": []
   },
   "outputs": [],
   "source": [
    "weight_df = pd.DataFrame(\n",
    "    10 + np.random.normal(0, 1, (years, 5)).cumsum(axis=0),\n",
    "    columns=[f\"w{i}\" for i in range(5)],\n",
    "    index=pd.period_range(start=\"2010\", periods=years, freq=\"a\"),\n",
    ")\n",
    "\n",
    "weight_df[[\"w0\", \"w1\", \"w2\"]] = weight_df[[\"w0\", \"w1\", \"w2\"]].divide(\n",
    "    weight_df[[\"w0\", \"w1\", \"w2\"]].sum(axis=1), axis=0\n",
    ")\n",
    "weight_df[[\"w3\", \"w4\"]] = weight_df[[\"w3\", \"w4\"]].divide(\n",
    "    weight_df[[\"w3\", \"w4\"]].sum(axis=1), axis=0\n",
    ")\n",
    "\n",
    "weight_df.plot(figsize=(15, 2.5))\n",
    "plt.title(\"Weights\")\n",
    "plt.show()"
   ]
  },
  {
   "cell_type": "markdown",
   "id": "4b207d18-ce69-4bef-b8b1-87d6a88da755",
   "metadata": {},
   "source": [
    "Before we can evaluate the formulae, we need to set a baseyear."
   ]
  },
  {
   "cell_type": "code",
   "execution_count": null,
   "id": "8621a26b-ba0b-47b1-b8bd-128009562c86",
   "metadata": {
    "tags": []
   },
   "outputs": [],
   "source": [
    "Formula.baseyear = 2020"
   ]
  },
  {
   "cell_type": "code",
   "execution_count": null,
   "id": "3245a900-6e26-4cf1-8f86-2b97de80c44e",
   "metadata": {
    "tags": []
   },
   "outputs": [],
   "source": [
    "fig = x.evaluate(annual_df, indicator_df, weight_df).plot(figsize=(15, 2.5))\n",
    "plt.title(\"x\")\n",
    "plt.show()"
   ]
  },
  {
   "cell_type": "code",
   "execution_count": null,
   "id": "92093395-3aba-4cf4-822c-756765bc8212",
   "metadata": {
    "tags": []
   },
   "outputs": [],
   "source": [
    "fig = vx.evaluate(annual_df, indicator_df, weight_df).plot(figsize=(15, 2.5))\n",
    "plt.title(\"vx\")\n",
    "plt.show()"
   ]
  },
  {
   "cell_type": "markdown",
   "id": "c1864794-ec84-4539-8bcc-56b4d92aadbd",
   "metadata": {},
   "source": [
    "## Organizing the formulae in the PreSystem class\n",
    "The PreSystem class is written to contain formulae, and allow the user to easily evaluate them, subject to data (contained by PreSystem)."
   ]
  },
  {
   "cell_type": "code",
   "execution_count": null,
   "id": "5e1d1e72-c002-47a5-a841-7ded66b5f969",
   "metadata": {
    "tags": []
   },
   "outputs": [],
   "source": [
    "# Let's create a PreSystem instance\n",
    "pre_system = PreSystem(\"Test PreSystem\")\n",
    "pre_system"
   ]
  },
  {
   "cell_type": "markdown",
   "id": "80f658c9-06b2-4ea1-ae48-63ab947275d0",
   "metadata": {},
   "source": [
    "The PreSystem is now ready to accept formulae and data."
   ]
  },
  {
   "cell_type": "code",
   "execution_count": null,
   "id": "29104e30-4a94-4c2c-b897-e7337dd7935b",
   "metadata": {
    "tags": []
   },
   "outputs": [],
   "source": [
    "pre_system.add_formula(xa1)\n",
    "pre_system.add_formula(xa2)\n",
    "pre_system.add_formula(xa)\n",
    "pre_system.add_formula(xb)\n",
    "pre_system.add_formula(vxa)\n",
    "pre_system.add_formula(vxb)\n",
    "pre_system.add_formula(x)\n",
    "pre_system.add_formula(vx)\n",
    "pre_system.info()"
   ]
  },
  {
   "cell_type": "markdown",
   "id": "cdbae515-769a-40ec-83fd-95af8bfa3831",
   "metadata": {},
   "source": [
    "In order to evaluate the PreSystem, we need to put data in it, and set the baseyear."
   ]
  },
  {
   "cell_type": "code",
   "execution_count": null,
   "id": "b38ba598-8903-4c5a-89ca-33ba768d820d",
   "metadata": {
    "tags": []
   },
   "outputs": [],
   "source": [
    "pre_system.baseyear = 2020\n",
    "pre_system.annuals_df = annual_df\n",
    "pre_system.indicators_df = indicator_df\n",
    "pre_system.weights_df = weight_df\n",
    "pre_system.info()"
   ]
  },
  {
   "cell_type": "markdown",
   "id": "a5674f5d-2c70-4f2b-86e5-48a865c13064",
   "metadata": {},
   "source": [
    "Now we can evaluate the PreSystem (horay!)."
   ]
  },
  {
   "cell_type": "code",
   "execution_count": null,
   "id": "1f083a16-ed7f-4697-8d27-090963ef8167",
   "metadata": {
    "tags": []
   },
   "outputs": [],
   "source": [
    "pre_system.evaluate"
   ]
  },
  {
   "cell_type": "markdown",
   "id": "1af38f32-a629-4045-9098-3dd450d1fa39",
   "metadata": {},
   "source": [
    "## Convert and overlay functions\n",
    "`pre_system` also contain three functions, `convert`, `convert_step` and `overlay`. Let's import these.\n",
    "\n",
    "### Convert"
   ]
  },
  {
   "cell_type": "code",
   "execution_count": null,
   "id": "41ac678f-36d2-4dcb-9fb2-a7d368ee98dd",
   "metadata": {
    "tags": []
   },
   "outputs": [],
   "source": [
    "from src.pre_system.convert import convert\n",
    "from src.pre_system.convert import convert_step\n",
    "from src.pre_system.overlay import overlay"
   ]
  },
  {
   "cell_type": "markdown",
   "id": "4534afcf-f27e-49d4-a52a-2fc12f416896",
   "metadata": {},
   "source": [
    "We can now \"upsample\" time series from, say, quarterly to monthly frequency."
   ]
  },
  {
   "cell_type": "code",
   "execution_count": null,
   "id": "76478711-a615-4daf-b3f6-f4ac44497fb7",
   "metadata": {
    "tags": []
   },
   "outputs": [],
   "source": [
    "quarterly_df = pd.DataFrame(\n",
    "    np.exp(0.02 + np.random.normal(0, 0.01, (16, 3)).cumsum(axis=0)),\n",
    "    columns=[f\"x{i}\" for i in range(3)],\n",
    "    index=pd.period_range(start=\"2019q1\", periods=16, freq=\"q\"),\n",
    ")\n",
    "\n",
    "quarterly_df.plot(figsize=(15, 2.5))\n",
    "plt.title(\"Quarterly data\")\n",
    "plt.show()"
   ]
  },
  {
   "cell_type": "code",
   "execution_count": null,
   "id": "c24399f5-dffb-4ce7-8021-34a5df1a35d3",
   "metadata": {
    "tags": []
   },
   "outputs": [],
   "source": [
    "convert(quarterly_df, \"m\").plot(figsize=(15, 2.5))\n",
    "plt.title(\"Quarterly data to montlhy using smooth method\")\n",
    "plt.show()"
   ]
  },
  {
   "cell_type": "code",
   "execution_count": null,
   "id": "a549076e-ad68-4402-98d1-bb8bf477d7d4",
   "metadata": {
    "tags": []
   },
   "outputs": [],
   "source": [
    "convert_step(quarterly_df, \"m\").plot(figsize=(15, 2.5))\n",
    "plt.title(\"Quarterly data to montlhy using step method\")\n",
    "plt.show()"
   ]
  },
  {
   "cell_type": "markdown",
   "id": "74b54e97-c154-45c9-bec4-4219781d0650",
   "metadata": {},
   "source": [
    "### Overlay\n",
    "Sometimes we have missing data, and we want to use and \"overlay\" function that takes any number of DataFrames or Series as input, and outputs the data from the first wherever they are present, the second if any from the first is missing, the third if any from the first and second are missing, and so on (you get the point). The function `overlay` does exactly this."
   ]
  },
  {
   "cell_type": "code",
   "execution_count": null,
   "id": "a1b2c041-e3fb-4c3d-b3e3-7258a222cff1",
   "metadata": {
    "tags": []
   },
   "outputs": [],
   "source": [
    "# Lets make some DataFrames and remove some values\n",
    "df0 = quarterly_df.copy()\n",
    "df1 = quarterly_df.copy()\n",
    "df2 = quarterly_df.copy()\n",
    "\n",
    "df0.iloc[0:5, :] = np.nan\n",
    "df1.iloc[3:9, :] = np.nan\n",
    "df2.iloc[10:12, :] = np.nan"
   ]
  },
  {
   "cell_type": "code",
   "execution_count": null,
   "id": "fcbc6c76-9f77-4d32-9014-28a417fa0158",
   "metadata": {
    "tags": []
   },
   "outputs": [],
   "source": [
    "df0"
   ]
  },
  {
   "cell_type": "code",
   "execution_count": null,
   "id": "0e8d18bf-7478-4e5d-be45-cca8f76568a6",
   "metadata": {
    "tags": []
   },
   "outputs": [],
   "source": [
    "df1"
   ]
  },
  {
   "cell_type": "code",
   "execution_count": null,
   "id": "b4461e48-71e5-473f-ac03-4c9f0f76b2d9",
   "metadata": {
    "tags": []
   },
   "outputs": [],
   "source": [
    "df2"
   ]
  },
  {
   "cell_type": "code",
   "execution_count": null,
   "id": "ea46cdd5-47f2-414f-abf3-de8886183d47",
   "metadata": {
    "tags": []
   },
   "outputs": [],
   "source": [
    "# If we overlay the three DataFrames, the result contains no NaN's\n",
    "overlay(df0, df1, df2)"
   ]
  },
  {
   "cell_type": "code",
   "execution_count": null,
   "id": "19ce1099-8439-442a-85c1-cec8a11482d8",
   "metadata": {
    "tags": []
   },
   "outputs": [],
   "source": [
    "# If we leave out df2 there are still some, since the NaN's in df0 and df1 overlap\n",
    "overlay(df0, df1)"
   ]
  },
  {
   "cell_type": "code",
   "execution_count": null,
   "id": "46d6f6c2-0061-4c5e-80d6-5fef1f718610",
   "metadata": {
    "tags": []
   },
   "outputs": [],
   "source": [
    "pre_system.baseyear = 2012\n",
    "pre_system.evaluate_formulae(\"xa\", \"xb\").plot()"
   ]
  },
  {
   "cell_type": "code",
   "execution_count": null,
   "id": "2c3873f2-f886-47e5-aa02-12fc9aad5ccd",
   "metadata": {},
   "outputs": [],
   "source": []
  }
 ],
 "metadata": {
  "language_info": {
   "codemirror_mode": {
    "name": "ipython"
   },
   "file_extension": ".py",
   "mimetype": "text/x-python",
   "name": "python",
   "nbconvert_exporter": "python"
  }
 },
 "nbformat": 4,
 "nbformat_minor": 5
}
