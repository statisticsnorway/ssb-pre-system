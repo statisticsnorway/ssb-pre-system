{
 "cells": [
  {
   "cell_type": "markdown",
   "id": "0f318a10-2458-4a1a-afe0-676e2842c690",
   "metadata": {},
   "source": [
    "# Demo of pre-system Formula and PreSystem classes\n",
    "By: Magnus Kvåle Helliesen"
   ]
  },
  {
   "cell_type": "code",
   "execution_count": null,
   "id": "6f5e6247-8fb9-47a7-a21a-4ec6d1c9cae1",
   "metadata": {
    "tags": []
   },
   "outputs": [],
   "source": [
    "import pandas as pd\n",
    "import numpy as np\n",
    "import matplotlib.pyplot as plt\n",
    "from pre_system.formula import Formula, Indicator, FInflate, FDeflate, FSum, FSumProd, FMult, FDiv, FJoin\n",
    "from pre_system.pre_system import PreSystem"
   ]
  },
  {
   "cell_type": "markdown",
   "id": "1d3511a7-85d6-4875-ab62-b12632ee6b1e",
   "metadata": {},
   "source": [
    "## Defining formulae\n",
    "There are a bunch of different Formula *child*-classes, some of which are put to use below."
   ]
  },
  {
   "cell_type": "code",
   "execution_count": null,
   "id": "3dcc8a19-b840-4450-9da1-36ed8e95898e",
   "metadata": {
    "tags": []
   },
   "outputs": [],
   "source": [
    "# Let's make a formula that extrapolates x using x1, x2 and x3\n",
    "xa = Indicator('xa', 'xa', ['x0', 'x1', 'x2'])\n",
    "xb = Indicator('xb', 'xb', ['x3', 'x4'])\n",
    "\n",
    "# Let's deflate them with a bunch of weighted price indices\n",
    "vxa = FDeflate('vxa', xa, ['p0', 'p1', 'p2'], ['w0', 'w1', 'w2'])\n",
    "vxb = FDeflate('vxb', xb, ['p3', 'p4'], ['w3', 'w4'])\n",
    "\n",
    "# Finally, let's sum them up\n",
    "x = FSum('xy', xa, xb)\n",
    "vx = FSum('vxy', vxa, vxb)"
   ]
  },
  {
   "cell_type": "markdown",
   "id": "61488aa9-5728-4d39-8467-f0dd8c60c467",
   "metadata": {},
   "source": [
    "## Looking at the textual representation of the formulae\n",
    "We haven't any data yet, but we can look at the textual representation of the formulae."
   ]
  },
  {
   "cell_type": "code",
   "execution_count": null,
   "id": "9c069903-e962-44b0-be1a-b88251a18713",
   "metadata": {},
   "outputs": [],
   "source": [
    "xa"
   ]
  },
  {
   "cell_type": "code",
   "execution_count": null,
   "id": "b239a66d-bcbb-4c7f-bebd-d48bece39293",
   "metadata": {
    "tags": []
   },
   "outputs": [],
   "source": [
    "xb"
   ]
  },
  {
   "cell_type": "code",
   "execution_count": null,
   "id": "8c546fbb-7d7f-437c-9852-87da5f0211a5",
   "metadata": {},
   "outputs": [],
   "source": [
    "vxa"
   ]
  },
  {
   "cell_type": "code",
   "execution_count": null,
   "id": "981aab97-399c-4cc6-9350-852a518fad68",
   "metadata": {},
   "outputs": [],
   "source": [
    "vxb"
   ]
  },
  {
   "cell_type": "code",
   "execution_count": null,
   "id": "ac8d5ce9-d358-4bf7-8772-29725c378cdc",
   "metadata": {},
   "outputs": [],
   "source": [
    "x"
   ]
  },
  {
   "cell_type": "code",
   "execution_count": null,
   "id": "29d26486-3b6c-459b-baa8-a8d4214452d8",
   "metadata": {
    "tags": []
   },
   "outputs": [],
   "source": [
    "vx"
   ]
  },
  {
   "cell_type": "markdown",
   "id": "65c4cbc5-814f-44ce-a8c6-7df41bd8b1b8",
   "metadata": {},
   "source": [
    "We can also trace back to any formulae that go into some formula."
   ]
  },
  {
   "cell_type": "code",
   "execution_count": null,
   "id": "24038530-b79f-4622-a870-e7f90b5af4b7",
   "metadata": {
    "tags": []
   },
   "outputs": [],
   "source": [
    "vxa.info()"
   ]
  },
  {
   "cell_type": "markdown",
   "id": "17d4d17c-5e3c-4b75-ad43-92abdabd66d7",
   "metadata": {},
   "source": [
    "We can also look at pairwise indicators and weights"
   ]
  },
  {
   "cell_type": "code",
   "execution_count": null,
   "id": "5a5a0938-deb3-4c88-80a2-7f7212920a87",
   "metadata": {
    "tags": []
   },
   "outputs": [],
   "source": [
    "# With trace\n",
    "vxa.indicators_weights()"
   ]
  },
  {
   "cell_type": "code",
   "execution_count": null,
   "id": "a1a03004-262b-4d6b-a3bc-58c1a97e178a",
   "metadata": {
    "tags": []
   },
   "outputs": [],
   "source": [
    "# Without trace\n",
    "vxa.indicators_weights(trace=False)"
   ]
  },
  {
   "cell_type": "markdown",
   "id": "256c6410-5da4-47fd-9340-67149c29cc32",
   "metadata": {},
   "source": [
    "## Subjecting formulae to data (evaluating formulae with respect to data)\n",
    "Let's make some random data and store them in Pandas DataFrames. Importantly, the data *must* be indexed by Pandas PeriodIndices."
   ]
  },
  {
   "cell_type": "code",
   "execution_count": null,
   "id": "e4206ff4-abe1-4da2-9b45-526fdf57fa61",
   "metadata": {
    "tags": []
   },
   "outputs": [],
   "source": [
    "years = 13"
   ]
  },
  {
   "cell_type": "code",
   "execution_count": null,
   "id": "fb53cfd9-cb3d-48b1-8deb-37dbfd1f6c4e",
   "metadata": {
    "tags": []
   },
   "outputs": [],
   "source": [
    "annual_df = pd.DataFrame(\n",
    "    np.exp(0.02+np.random.normal(0, 0.01, (years, 10)).cumsum(axis=0)),\n",
    "    columns=[f'x{i}' for i in 'abcdefghij'],\n",
    "    index=pd.period_range(start='2010', periods=years, freq='a')\n",
    ")\n",
    "\n",
    "annual_df.plot(figsize=(15, 2.5))\n",
    "plt.title('Annual values')\n",
    "plt.show()"
   ]
  },
  {
   "cell_type": "code",
   "execution_count": null,
   "id": "8f5a99a1-dc14-47e2-a0df-cd4dcbd6105d",
   "metadata": {
    "tags": []
   },
   "outputs": [],
   "source": [
    "indicator_df = pd.DataFrame(\n",
    "    np.exp(0.02+np.random.normal(0, 0.01, (years*12, 10)).cumsum(axis=0)),\n",
    "    columns=[f'x{i}' for i in range(5)]+[f'p{i}' for i in range(5)],\n",
    "    index=pd.period_range(start='2010-01', periods=years*12, freq='m')\n",
    ")\n",
    "\n",
    "indicator_df.plot(figsize=(15, 2.5))\n",
    "plt.title('Indicators')\n",
    "plt.show()"
   ]
  },
  {
   "cell_type": "code",
   "execution_count": null,
   "id": "af20f3e8-6ce5-41f8-91f5-ceca196efa83",
   "metadata": {
    "tags": []
   },
   "outputs": [],
   "source": [
    "weight_df = pd.DataFrame(\n",
    "    10+np.random.normal(0, 1, (years, 5)).cumsum(axis=0),\n",
    "    columns=[f'w{i}' for i in range(5)],\n",
    "    index=pd.period_range(start='2010', periods=years, freq='a')\n",
    ")\n",
    "\n",
    "weight_df[['w0', 'w1', 'w2']] = weight_df[['w0', 'w1', 'w2']].divide(weight_df[['w0', 'w1', 'w2']].sum(axis=1), axis=0)\n",
    "weight_df[['w3', 'w4']] = weight_df[['w3', 'w4']].divide(weight_df[['w3', 'w4']].sum(axis=1), axis=0)\n",
    "\n",
    "weight_df.plot(figsize=(15, 2.5))\n",
    "plt.title('Weights')\n",
    "plt.show()"
   ]
  },
  {
   "cell_type": "markdown",
   "id": "4b207d18-ce69-4bef-b8b1-87d6a88da755",
   "metadata": {},
   "source": [
    "Before we can evaluate the formulae, we need to set a baseyear."
   ]
  },
  {
   "cell_type": "code",
   "execution_count": null,
   "id": "8621a26b-ba0b-47b1-b8bd-128009562c86",
   "metadata": {
    "tags": []
   },
   "outputs": [],
   "source": [
    "Formula.baseyear = 2020"
   ]
  },
  {
   "cell_type": "code",
   "execution_count": null,
   "id": "3245a900-6e26-4cf1-8f86-2b97de80c44e",
   "metadata": {
    "tags": []
   },
   "outputs": [],
   "source": [
    "fig = x.evaluate(annual_df, indicator_df, weight_df).plot(figsize=(15, 2.5))\n",
    "plt.title('x')\n",
    "plt.show()"
   ]
  },
  {
   "cell_type": "code",
   "execution_count": null,
   "id": "92093395-3aba-4cf4-822c-756765bc8212",
   "metadata": {
    "tags": []
   },
   "outputs": [],
   "source": [
    "fig = vx.evaluate(annual_df, indicator_df, weight_df).plot(figsize=(15, 2.5))\n",
    "plt.title('vx')\n",
    "plt.show()"
   ]
  },
  {
   "cell_type": "markdown",
   "id": "c1864794-ec84-4539-8bcc-56b4d92aadbd",
   "metadata": {},
   "source": [
    "## Organizing the formulae in the PreSystem class\n",
    "The PreSystem class is written to contain formulae, and allow the user to easily evaluate them, subject to data (contained by PreSystem)."
   ]
  },
  {
   "cell_type": "code",
   "execution_count": null,
   "id": "5e1d1e72-c002-47a5-a841-7ded66b5f969",
   "metadata": {
    "tags": []
   },
   "outputs": [],
   "source": [
    "# Let's create a PreSystem instance\n",
    "pre_system = PreSystem('Test PreSystem')\n",
    "pre_system"
   ]
  },
  {
   "cell_type": "markdown",
   "id": "80f658c9-06b2-4ea1-ae48-63ab947275d0",
   "metadata": {},
   "source": [
    "The PreSystem is now ready to accept formulae and data."
   ]
  },
  {
   "cell_type": "code",
   "execution_count": null,
   "id": "29104e30-4a94-4c2c-b897-e7337dd7935b",
   "metadata": {
    "tags": []
   },
   "outputs": [],
   "source": [
    "pre_system.add_formula(xa)\n",
    "pre_system.add_formula(xb)\n",
    "pre_system.add_formula(vxa)\n",
    "pre_system.add_formula(vxb)\n",
    "pre_system.add_formula(x)\n",
    "pre_system.add_formula(vx)\n",
    "pre_system.info()"
   ]
  },
  {
   "cell_type": "markdown",
   "id": "cdbae515-769a-40ec-83fd-95af8bfa3831",
   "metadata": {},
   "source": [
    "In order to evaluate the PreSystem, we need to put data in it, and set the baseyear."
   ]
  },
  {
   "cell_type": "code",
   "execution_count": null,
   "id": "b38ba598-8903-4c5a-89ca-33ba768d820d",
   "metadata": {
    "tags": []
   },
   "outputs": [],
   "source": [
    "pre_system.baseyear = 2020\n",
    "pre_system.annuals_df = annual_df\n",
    "pre_system.indicators_df = indicator_df\n",
    "pre_system.weights_df = weight_df\n",
    "pre_system.info()"
   ]
  },
  {
   "cell_type": "markdown",
   "id": "a5674f5d-2c70-4f2b-86e5-48a865c13064",
   "metadata": {},
   "source": [
    "Now we can evaluate the PreSystem (horay!)."
   ]
  },
  {
   "cell_type": "code",
   "execution_count": null,
   "id": "1f083a16-ed7f-4697-8d27-090963ef8167",
   "metadata": {
    "tags": []
   },
   "outputs": [],
   "source": [
    "pre_system.evaluate"
   ]
  }
 ],
 "metadata": {
  "language_info": {
   "codemirror_mode": {
    "name": "ipython"
   },
   "file_extension": ".py",
   "mimetype": "text/x-python",
   "name": "python",
   "nbconvert_exporter": "python"
  }
 },
 "nbformat": 4,
 "nbformat_minor": 5
}
